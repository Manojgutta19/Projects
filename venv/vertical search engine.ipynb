{
 "cells": [
  {
   "cell_type": "code",
   "execution_count": 1,
   "metadata": {},
   "outputs": [
    {
     "data": {
      "application/vnd.jupyter.widget-view+json": {
       "model_id": "a969fedf640b4d30b82293a6940977d9",
       "version_major": 2,
       "version_minor": 0
      },
      "text/plain": [
       "Text(value='', description='Publication Search:')"
      ]
     },
     "metadata": {},
     "output_type": "display_data"
    },
    {
     "data": {
      "application/vnd.jupyter.widget-view+json": {
       "model_id": "11bddd15639d462ca84defdf483a273c",
       "version_major": 2,
       "version_minor": 0
      },
      "text/plain": [
       "Button(description='Search', style=ButtonStyle())"
      ]
     },
     "metadata": {},
     "output_type": "display_data"
    },
    {
     "data": {
      "application/vnd.jupyter.widget-view+json": {
       "model_id": "d5dbccfc46534411aff7d77c52c45b60",
       "version_major": 2,
       "version_minor": 0
      },
      "text/plain": [
       "Output()"
      ]
     },
     "metadata": {},
     "output_type": "display_data"
    }
   ],
   "source": [
    "from IPython.display import HTML, display\n",
    "import requests\n",
    "from bs4 import BeautifulSoup\n",
    "import ipywidgets as widgets\n",
    "\n",
    "url = 'https://pureportal.coventry.ac.uk/en/publications/'\n",
    "class_name = 'link person'\n",
    "\n",
    "# crawler to scrap the data from the webpage\n",
    "def crawl(url):\n",
    "    req = requests.get(url)\n",
    "    ext = BeautifulSoup(req.content, 'html.parser')\n",
    "    ele = ext.find_all(\"div\", class_=\"result-container\")\n",
    "    data = []\n",
    "    for element in ele:\n",
    "        title = element.find(\"h3\", class_=\"title\").text.strip()\n",
    "        authors = []\n",
    "        aut_elements = element.find_all(\"a\", class_=class_name)\n",
    "        for aut_element in aut_elements:\n",
    "            authors.append(aut_element.text.strip())\n",
    "        authors = ', '.join(authors) if authors else \"Unknown\"\n",
    "        pub = element.find(\"span\", class_=\"date\")\n",
    "        publication = pub.text.strip() if pub else \"Unknown\"\n",
    "        link = element.find(\"a\", class_=\"link\")\n",
    "        page = link[\"href\"] if link and 'href' in link.attrs else \"unknown\"\n",
    "        joi = []\n",
    "        alink = element.find(\"a\", class_=\"link person\")\n",
    "        if alink and 'href' in alink.attrs:\n",
    "            joi.append(alink[\"href\"])\n",
    "        aut_link =\"/n\".join(joi) if alink and 'href' in alink.attrs else \"Unknown\"\n",
    "        data.append({\n",
    "            'title': title,\n",
    "            'authors': authors,\n",
    "            'author link': aut_link,\n",
    "            'publication': publication,\n",
    "            'page': page\n",
    "        })\n",
    "    return data\n",
    "# Inverted Index is used to improve the speed of vertical search engine \n",
    "def index(data):\n",
    "    inverted_index = {}\n",
    "    for inv, item in enumerate(data):\n",
    "        words = item['title'].lower().split()\n",
    "        for word in words:\n",
    "            if word not in inverted_index:\n",
    "                inverted_index[word] = []\n",
    "            inverted_index[word].append(inv)\n",
    "    return inverted_index\n",
    "\n",
    "# Query preprocessing \n",
    "def search(query, data, inverted_index):\n",
    "    result = []\n",
    "    search_url = url + f'?search={query.replace(\" \",\"+\")}&organisations=coventry-university%2Fcentre-for-global-learning'\n",
    "    url_list = crawl(search_url)\n",
    "    if url_list:\n",
    "        return url_list\n",
    "    for item in data:\n",
    "        if query.lower() in item['title'].lower():\n",
    "            result.append(item)\n",
    "    return result\n",
    "\n",
    "\n",
    "def result(results):\n",
    "    if len(results) > 0:\n",
    "        for index, result in enumerate(results):\n",
    "            display(HTML(f\"<h3>Result #{index+1}</h3>\"))\n",
    "            display(HTML(f\"<b>Title:</b> {result['title']}\"))\n",
    "            display(HTML(f\"<b>Authors:</b> {result['authors']}\"))\n",
    "            display(HTML(f\"<b>Publication Data:</b> {result['publication']}\"))\n",
    "            \n",
    "            # Create clickable links for author link and publication link\n",
    "            display(HTML(f\"<b>Author Link:</b> <a href='{result['author link']}'>{result['author link']}</a>\"))\n",
    "            display(HTML(f\"<b>Publication link:</b> <a href='{result['page']}'>{result['page']}</a>\"))\n",
    "            \n",
    "            display(HTML(\"<hr>\"))\n",
    "    else:\n",
    "        print(\"No results found.\")\n",
    "\n",
    "query_input = widgets.Text(description='Publication Search:')\n",
    "search_button = widgets.Button(description='Search')\n",
    "output = widgets.Output()\n",
    "\n",
    "def button_click(b):\n",
    "    output.clear_output()\n",
    "    with output:\n",
    "        query = query_input.value\n",
    "        search_result = search(query, data, inverted_index)\n",
    "        result(search_result)\n",
    "\n",
    "search_button.on_click(button_click)\n",
    "\n",
    "# Display the widgets and search results\n",
    "display(query_input)\n",
    "display(search_button)\n",
    "display(output)\n",
    "\n",
    "# Initial data retrieval and indexing\n",
    "data = crawl(url)\n",
    "inverted_index = index(data)\n"
   ]
  }
 ],
 "metadata": {
  "kernelspec": {
   "display_name": "Python 3",
   "language": "python",
   "name": "python3"
  },
  "language_info": {
   "codemirror_mode": {
    "name": "ipython",
    "version": 3
   },
   "file_extension": ".py",
   "mimetype": "text/x-python",
   "name": "python",
   "nbconvert_exporter": "python",
   "pygments_lexer": "ipython3",
   "version": "3.12.0"
  }
 },
 "nbformat": 4,
 "nbformat_minor": 2
}
