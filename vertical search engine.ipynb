{
  "cells": [
    {
      "cell_type": "markdown",
      "metadata": {
        "id": "view-in-github",
        "colab_type": "text"
      },
      "source": [
        "<a href=\"https://colab.research.google.com/github/Manojgutta19/Projects/blob/main/vertical%20search%20engine.ipynb\" target=\"_parent\"><img src=\"https://colab.research.google.com/assets/colab-badge.svg\" alt=\"Open In Colab\"/></a>"
      ]
    },
    {
      "cell_type": "code",
      "execution_count": 2,
      "metadata": {
        "id": "s0Gp38qKZejA",
        "outputId": "25a6debd-e6e6-4dfd-e150-629cd78006a8",
        "colab": {
          "base_uri": "https://localhost:8080/",
          "height": 99,
          "referenced_widgets": [
            "37c70348cb224e1f8a2c3012121eb1a6",
            "1bb97cef51df4b07b850676edc7ee24a",
            "70e4085470ea4fb19d70273b88756d97",
            "fab49236d935435fb4dddce0dc4b7939",
            "42e6941710ee4898a1e1dd426bf90543",
            "40e92c6061d54182ab0426517265d91c",
            "63c290156d8f436bbeda1f5e8ec8fba9",
            "f2b6eb14798344b8af043e29613550d5"
          ]
        }
      },
      "outputs": [
        {
          "output_type": "display_data",
          "data": {
            "text/plain": [
              "Text(value='', description='Publication Search:')"
            ],
            "application/vnd.jupyter.widget-view+json": {
              "version_major": 2,
              "version_minor": 0,
              "model_id": "37c70348cb224e1f8a2c3012121eb1a6"
            }
          },
          "metadata": {}
        },
        {
          "output_type": "display_data",
          "data": {
            "text/plain": [
              "Button(description='Search', style=ButtonStyle())"
            ],
            "application/vnd.jupyter.widget-view+json": {
              "version_major": 2,
              "version_minor": 0,
              "model_id": "fab49236d935435fb4dddce0dc4b7939"
            }
          },
          "metadata": {}
        },
        {
          "output_type": "display_data",
          "data": {
            "text/plain": [
              "Output()"
            ],
            "application/vnd.jupyter.widget-view+json": {
              "version_major": 2,
              "version_minor": 0,
              "model_id": "63c290156d8f436bbeda1f5e8ec8fba9"
            }
          },
          "metadata": {}
        }
      ],
      "source": [
        "from IPython.display import HTML, display\n",
        "import requests\n",
        "from bs4 import BeautifulSoup\n",
        "import ipywidgets as widgets\n",
        "\n",
        "url = 'https://pureportal.coventry.ac.uk/en/publications/'\n",
        "class_name = 'link person'\n",
        "\n",
        "# crawler to scrap the data from the webpage\n",
        "def crawl(url):\n",
        "    req = requests.get(url)\n",
        "    ext = BeautifulSoup(req.content, 'html.parser')\n",
        "    ele = ext.find_all(\"div\", class_=\"result-container\")\n",
        "    data = []\n",
        "    for element in ele:\n",
        "        title = element.find(\"h3\", class_=\"title\").text.strip()\n",
        "        authors = []\n",
        "        aut_elements = element.find_all(\"a\", class_=class_name)\n",
        "        for aut_element in aut_elements:\n",
        "            authors.append(aut_element.text.strip())\n",
        "        authors = ', '.join(authors) if authors else \"Unknown\"\n",
        "        pub = element.find(\"span\", class_=\"date\")\n",
        "        publication = pub.text.strip() if pub else \"Unknown\"\n",
        "        link = element.find(\"a\", class_=\"link\")\n",
        "        page = link[\"href\"] if link and 'href' in link.attrs else \"unknown\"\n",
        "        joi = []\n",
        "        alink = element.find(\"a\", class_=\"link person\")\n",
        "        if alink and 'href' in alink.attrs:\n",
        "            joi.append(alink[\"href\"])\n",
        "        aut_link =\"/n\".join(joi) if alink and 'href' in alink.attrs else \"Unknown\"\n",
        "        data.append({\n",
        "            'title': title,\n",
        "            'authors': authors,\n",
        "            'author link': aut_link,\n",
        "            'publication': publication,\n",
        "            'page': page\n",
        "        })\n",
        "    return data\n",
        "# Inverted Index is used to improve the speed of vertical search engine\n",
        "def index(data):\n",
        "    inverted_index = {}\n",
        "    for inv, item in enumerate(data):\n",
        "        words = item['title'].lower().split()\n",
        "        for word in words:\n",
        "            if word not in inverted_index:\n",
        "                inverted_index[word] = []\n",
        "            inverted_index[word].append(inv)\n",
        "    return inverted_index\n",
        "\n",
        "# Query preprocessing\n",
        "def search(query, data, inverted_index):\n",
        "    result = []\n",
        "    search_url = url + f'?search={query.replace(\" \",\"+\")}&organisations=coventry-university%2Fcentre-for-global-learning'\n",
        "    url_list = crawl(search_url)\n",
        "    if url_list:\n",
        "        return url_list\n",
        "    for item in data:\n",
        "        if query.lower() in item['title'].lower():\n",
        "            result.append(item)\n",
        "    return result\n",
        "\n",
        "\n",
        "def result(results):\n",
        "    if len(results) > 0:\n",
        "        for index, result in enumerate(results):\n",
        "            display(HTML(f\"<h3>Result #{index+1}</h3>\"))\n",
        "            display(HTML(f\"<b>Title:</b> {result['title']}\"))\n",
        "            display(HTML(f\"<b>Authors:</b> {result['authors']}\"))\n",
        "            display(HTML(f\"<b>Publication Data:</b> {result['publication']}\"))\n",
        "\n",
        "            # Create clickable links for author link and publication link\n",
        "            display(HTML(f\"<b>Author Link:</b> <a href='{result['author link']}'>{result['author link']}</a>\"))\n",
        "            display(HTML(f\"<b>Publication link:</b> <a href='{result['page']}'>{result['page']}</a>\"))\n",
        "\n",
        "            display(HTML(\"<hr>\"))\n",
        "    else:\n",
        "        print(\"No results found.\")\n",
        "\n",
        "query_input = widgets.Text(description='Publication Search:')\n",
        "search_button = widgets.Button(description='Search')\n",
        "output = widgets.Output()\n",
        "\n",
        "def button_click(b):\n",
        "    output.clear_output()\n",
        "    with output:\n",
        "        query = query_input.value\n",
        "        search_result = search(query, data, inverted_index)\n",
        "        result(search_result)\n",
        "\n",
        "search_button.on_click(button_click)\n",
        "\n",
        "# Display the widgets and search results\n",
        "display(query_input)\n",
        "display(search_button)\n",
        "display(output)\n",
        "\n",
        "# Initial data retrieval and indexing\n",
        "data = crawl(url)\n",
        "inverted_index = index(data)\n"
      ]
    }
  ],
  "metadata": {
    "kernelspec": {
      "display_name": "Python 3",
      "language": "python",
      "name": "python3"
    },
    "language_info": {
      "codemirror_mode": {
        "name": "ipython",
        "version": 3
      },
      "file_extension": ".py",
      "mimetype": "text/x-python",
      "name": "python",
      "nbconvert_exporter": "python",
      "pygments_lexer": "ipython3",
      "version": "3.12.0"
    },
    "colab": {
      "provenance": [],
      "include_colab_link": true
    },
    "widgets": {
      "application/vnd.jupyter.widget-state+json": {
        "37c70348cb224e1f8a2c3012121eb1a6": {
          "model_module": "@jupyter-widgets/controls",
          "model_name": "TextModel",
          "model_module_version": "1.5.0",
          "state": {
            "_dom_classes": [],
            "_model_module": "@jupyter-widgets/controls",
            "_model_module_version": "1.5.0",
            "_model_name": "TextModel",
            "_view_count": null,
            "_view_module": "@jupyter-widgets/controls",
            "_view_module_version": "1.5.0",
            "_view_name": "TextView",
            "continuous_update": true,
            "description": "Publication Search:",
            "description_tooltip": null,
            "disabled": false,
            "layout": "IPY_MODEL_1bb97cef51df4b07b850676edc7ee24a",
            "placeholder": "​",
            "style": "IPY_MODEL_70e4085470ea4fb19d70273b88756d97",
            "value": "d"
          }
        },
        "1bb97cef51df4b07b850676edc7ee24a": {
          "model_module": "@jupyter-widgets/base",
          "model_name": "LayoutModel",
          "model_module_version": "1.2.0",
          "state": {
            "_model_module": "@jupyter-widgets/base",
            "_model_module_version": "1.2.0",
            "_model_name": "LayoutModel",
            "_view_count": null,
            "_view_module": "@jupyter-widgets/base",
            "_view_module_version": "1.2.0",
            "_view_name": "LayoutView",
            "align_content": null,
            "align_items": null,
            "align_self": null,
            "border": null,
            "bottom": null,
            "display": null,
            "flex": null,
            "flex_flow": null,
            "grid_area": null,
            "grid_auto_columns": null,
            "grid_auto_flow": null,
            "grid_auto_rows": null,
            "grid_column": null,
            "grid_gap": null,
            "grid_row": null,
            "grid_template_areas": null,
            "grid_template_columns": null,
            "grid_template_rows": null,
            "height": null,
            "justify_content": null,
            "justify_items": null,
            "left": null,
            "margin": null,
            "max_height": null,
            "max_width": null,
            "min_height": null,
            "min_width": null,
            "object_fit": null,
            "object_position": null,
            "order": null,
            "overflow": null,
            "overflow_x": null,
            "overflow_y": null,
            "padding": null,
            "right": null,
            "top": null,
            "visibility": null,
            "width": null
          }
        },
        "70e4085470ea4fb19d70273b88756d97": {
          "model_module": "@jupyter-widgets/controls",
          "model_name": "DescriptionStyleModel",
          "model_module_version": "1.5.0",
          "state": {
            "_model_module": "@jupyter-widgets/controls",
            "_model_module_version": "1.5.0",
            "_model_name": "DescriptionStyleModel",
            "_view_count": null,
            "_view_module": "@jupyter-widgets/base",
            "_view_module_version": "1.2.0",
            "_view_name": "StyleView",
            "description_width": ""
          }
        },
        "fab49236d935435fb4dddce0dc4b7939": {
          "model_module": "@jupyter-widgets/controls",
          "model_name": "ButtonModel",
          "model_module_version": "1.5.0",
          "state": {
            "_dom_classes": [],
            "_model_module": "@jupyter-widgets/controls",
            "_model_module_version": "1.5.0",
            "_model_name": "ButtonModel",
            "_view_count": null,
            "_view_module": "@jupyter-widgets/controls",
            "_view_module_version": "1.5.0",
            "_view_name": "ButtonView",
            "button_style": "",
            "description": "Search",
            "disabled": false,
            "icon": "",
            "layout": "IPY_MODEL_42e6941710ee4898a1e1dd426bf90543",
            "style": "IPY_MODEL_40e92c6061d54182ab0426517265d91c",
            "tooltip": ""
          }
        },
        "42e6941710ee4898a1e1dd426bf90543": {
          "model_module": "@jupyter-widgets/base",
          "model_name": "LayoutModel",
          "model_module_version": "1.2.0",
          "state": {
            "_model_module": "@jupyter-widgets/base",
            "_model_module_version": "1.2.0",
            "_model_name": "LayoutModel",
            "_view_count": null,
            "_view_module": "@jupyter-widgets/base",
            "_view_module_version": "1.2.0",
            "_view_name": "LayoutView",
            "align_content": null,
            "align_items": null,
            "align_self": null,
            "border": null,
            "bottom": null,
            "display": null,
            "flex": null,
            "flex_flow": null,
            "grid_area": null,
            "grid_auto_columns": null,
            "grid_auto_flow": null,
            "grid_auto_rows": null,
            "grid_column": null,
            "grid_gap": null,
            "grid_row": null,
            "grid_template_areas": null,
            "grid_template_columns": null,
            "grid_template_rows": null,
            "height": null,
            "justify_content": null,
            "justify_items": null,
            "left": null,
            "margin": null,
            "max_height": null,
            "max_width": null,
            "min_height": null,
            "min_width": null,
            "object_fit": null,
            "object_position": null,
            "order": null,
            "overflow": null,
            "overflow_x": null,
            "overflow_y": null,
            "padding": null,
            "right": null,
            "top": null,
            "visibility": null,
            "width": null
          }
        },
        "40e92c6061d54182ab0426517265d91c": {
          "model_module": "@jupyter-widgets/controls",
          "model_name": "ButtonStyleModel",
          "model_module_version": "1.5.0",
          "state": {
            "_model_module": "@jupyter-widgets/controls",
            "_model_module_version": "1.5.0",
            "_model_name": "ButtonStyleModel",
            "_view_count": null,
            "_view_module": "@jupyter-widgets/base",
            "_view_module_version": "1.2.0",
            "_view_name": "StyleView",
            "button_color": null,
            "font_weight": ""
          }
        },
        "63c290156d8f436bbeda1f5e8ec8fba9": {
          "model_module": "@jupyter-widgets/output",
          "model_name": "OutputModel",
          "model_module_version": "1.0.0",
          "state": {
            "_dom_classes": [],
            "_model_module": "@jupyter-widgets/output",
            "_model_module_version": "1.0.0",
            "_model_name": "OutputModel",
            "_view_count": null,
            "_view_module": "@jupyter-widgets/output",
            "_view_module_version": "1.0.0",
            "_view_name": "OutputView",
            "layout": "IPY_MODEL_f2b6eb14798344b8af043e29613550d5",
            "msg_id": "",
            "outputs": [
              {
                "output_type": "stream",
                "name": "stdout",
                "text": [
                  "No results found.\n"
                ]
              }
            ]
          }
        },
        "f2b6eb14798344b8af043e29613550d5": {
          "model_module": "@jupyter-widgets/base",
          "model_name": "LayoutModel",
          "model_module_version": "1.2.0",
          "state": {
            "_model_module": "@jupyter-widgets/base",
            "_model_module_version": "1.2.0",
            "_model_name": "LayoutModel",
            "_view_count": null,
            "_view_module": "@jupyter-widgets/base",
            "_view_module_version": "1.2.0",
            "_view_name": "LayoutView",
            "align_content": null,
            "align_items": null,
            "align_self": null,
            "border": null,
            "bottom": null,
            "display": null,
            "flex": null,
            "flex_flow": null,
            "grid_area": null,
            "grid_auto_columns": null,
            "grid_auto_flow": null,
            "grid_auto_rows": null,
            "grid_column": null,
            "grid_gap": null,
            "grid_row": null,
            "grid_template_areas": null,
            "grid_template_columns": null,
            "grid_template_rows": null,
            "height": null,
            "justify_content": null,
            "justify_items": null,
            "left": null,
            "margin": null,
            "max_height": null,
            "max_width": null,
            "min_height": null,
            "min_width": null,
            "object_fit": null,
            "object_position": null,
            "order": null,
            "overflow": null,
            "overflow_x": null,
            "overflow_y": null,
            "padding": null,
            "right": null,
            "top": null,
            "visibility": null,
            "width": null
          }
        }
      }
    }
  },
  "nbformat": 4,
  "nbformat_minor": 0
}